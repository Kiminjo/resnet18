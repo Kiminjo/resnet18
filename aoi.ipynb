{
 "cells": [
  {
   "cell_type": "code",
   "execution_count": null,
   "metadata": {},
   "outputs": [],
   "source": [
    "import timm\n",
    "from DataLoader import AOIDataset\n",
    "from torchvision import transforms\n",
    "from torch.utils.data import DataLoader\n",
    "from sklearn.metrics import classification_report, confusion_matrix\n",
    "from statistics import mean\n",
    "import time\n",
    "import torch\n",
    "import torch.nn as nn\n",
    "import torch.nn.functional as F\n",
    "import wandb\n",
    "import pandas as pd\n",
    "import warnings\n",
    "\n",
    "warnings.filterwarnings(action='ignore')"
   ]
  },
  {
   "cell_type": "markdown",
   "metadata": {},
   "source": [
    "### Sweep 초기화 및 하이퍼파라미터 선언"
   ]
  },
  {
   "cell_type": "markdown",
   "metadata": {},
   "source": [
    "학습 결과 다음의 파라미터에서 최적의 성능을 보임을 확인하였다. \n",
    "- batch size : 64\n",
    "- learning rate : 1e-4\n",
    "- image size : 224\n",
    "\n",
    "차후 이를 이용하여 모델의 평가를 진행하고자 한다. "
   ]
  },
  {
   "cell_type": "code",
   "execution_count": null,
   "metadata": {},
   "outputs": [],
   "source": [
    "sweep_config = {\n",
    "    'name' : 'resnet18-aoi',\n",
    "    'method' : 'grid',\n",
    "    'parameters' : {\n",
    "        'lr' : {\n",
    "            'value' : 1e-4\n",
    "        },\n",
    "        'batch_size' : {\n",
    "            'value' : 64\n",
    "        }, \n",
    "        'img_size' : {\n",
    "            'value' : 224\n",
    "        }\n",
    "    }\n",
    "}"
   ]
  },
  {
   "cell_type": "code",
   "execution_count": null,
   "metadata": {},
   "outputs": [],
   "source": [
    "epochs = 50\n",
    "device = 'cuda:1' if torch.cuda.is_available() else 'cpu'\n",
    "sweep_id = wandb.sweep(sweep_config, project='test')"
   ]
  },
  {
   "cell_type": "markdown",
   "metadata": {},
   "source": [
    "### 데이터 정의"
   ]
  },
  {
   "cell_type": "code",
   "execution_count": null,
   "metadata": {},
   "outputs": [],
   "source": [
    "def define_datasets(run) : \n",
    "    # data\n",
    "    transform = transforms.Compose([\n",
    "        transforms.ToTensor(),\n",
    "        transforms.Resize(run.config.img_size)\n",
    "    ])\n",
    "\n",
    "    train_data = AOIDataset(train=True, transform=transform)\n",
    "    val_data = AOIDataset(val=True, transform=transform)\n",
    "    test_data = AOIDataset(test=True, transform=transform)\n",
    "\n",
    "    train_loader = DataLoader(train_data, batch_size=run.config.batch_size, shuffle=True, num_workers=4)\n",
    "    val_loader = DataLoader(val_data, batch_size=run.config.batch_size, shuffle=True, num_workers=4)\n",
    "    test_loader = DataLoader(test_data, batch_size=run.config.batch_size, shuffle=True, num_workers=4)\n",
    "\n",
    "    return train_loader, val_loader, test_loader\n"
   ]
  },
  {
   "cell_type": "markdown",
   "metadata": {},
   "source": [
    "### 모델 및 기타 학습용 객체 정의"
   ]
  },
  {
   "cell_type": "code",
   "execution_count": null,
   "metadata": {},
   "outputs": [],
   "source": [
    "def define_training_object(run) : \n",
    "    model = timm.create_model('resnet18', pretrained=True, num_classes=7).to(device)\n",
    "    optimizer = torch.optim.Adam(model.parameters(), lr=run.config.lr)\n",
    "    criterion = nn.NLLLoss()\n",
    "\n",
    "    # resnet 18의 특성 추출용 CNN layer의 파라미터는 고정시키고 분류기의 성능만을 업데이트하고자 한다. \n",
    "    for param in model.parameters() :\n",
    "        param.require_grad = False\n",
    "\n",
    "    for param in model.fc.parameters() :\n",
    "        param.require_grad = True\n",
    "\n",
    "    return model, optimizer, criterion"
   ]
  },
  {
   "cell_type": "markdown",
   "metadata": {},
   "source": [
    "### 학습 함수 정의"
   ]
  },
  {
   "cell_type": "code",
   "execution_count": null,
   "metadata": {},
   "outputs": [],
   "source": [
    "def train(model, optimizer, criterion, data_loader) : \n",
    "    model.train()\n",
    "    \n",
    "    epoch_loss = 0  \n",
    "    epoch_acc = 0\n",
    "\n",
    "    for _, (data, label) in enumerate(data_loader) :\n",
    "        data = data.to(device)\n",
    "        label = label.to(device)\n",
    "        print(data.size())\n",
    "        print(label.size())\n",
    "        print('==========')\n",
    "\n",
    "        logit = model(data)\n",
    "        prob = F.log_softmax(logit) \n",
    "        pred = torch.argmax(prob, dim=1)\n",
    "        acc = torch.sum(pred==label)\n",
    "\n",
    "        loss = criterion(prob, label)\n",
    "        \n",
    "        optimizer.zero_grad()\n",
    "        loss.backward()\n",
    "        optimizer.step()\n",
    "\n",
    "        epoch_loss += loss.item()\n",
    "        epoch_acc += acc.item()\n",
    "\n",
    "    train_loss = epoch_loss / len(data_loader.dataset)\n",
    "    train_acc = epoch_acc / len(data_loader.dataset)\n",
    "        \n",
    "    return train_acc, train_loss\n",
    "\n",
    "\n",
    "def validation(model, optimizer, criterion, val_loader) :\n",
    "    model.eval()\n",
    "    epoch_loss = 0\n",
    "    epoch_acc = 0\n",
    "\n",
    "    for data, label in val_loader :\n",
    "        with torch.no_grad() : \n",
    "            data = data.to(device)\n",
    "            label = label.to(device)\n",
    "            \n",
    "            logit = model(data)\n",
    "            prob = F.log_softmax(logit) \n",
    "            pred = torch.argmax(prob, dim=1)\n",
    "            acc = torch.sum(pred==label)\n",
    "\n",
    "            loss = criterion(prob, label)\n",
    "            epoch_loss += loss.item()\n",
    "            epoch_acc += acc\n",
    "    \n",
    "    val_loss = epoch_loss / len(val_loader.dataset)\n",
    "    val_acc = epoch_acc / len(val_loader.dataset)\n",
    "        \n",
    "    return val_acc, val_loss\n",
    "\n",
    "\n",
    "def test(model, test_loader) :\n",
    "    model.eval()\n",
    "    prediction, ground_truth = [], []\n",
    "\n",
    "    infer_times = []\n",
    "    for data, label in test_loader :\n",
    "        with torch.no_grad() : \n",
    "            data = data.to(device)\n",
    "            label = label.to(device)\n",
    "\n",
    "            t1 = time.time()\n",
    "            logit = model(data)\n",
    "            t2 = time.time()\n",
    "            infer_times.append((t2-t1) * 1000)  \n",
    "\n",
    "            prob = F.softmax(logit)\n",
    "            pred = torch.argmax(prob, dim=1)\n",
    "\n",
    "            prediction += list(pred.detach().cpu().numpy())\n",
    "            ground_truth += list(label.detach().cpu().numpy())\n",
    "\n",
    "    infer_time = mean(infer_times)\n",
    "    wandb.config.infer_time = infer_time\n",
    "    report = classification_report(prediction, ground_truth)\n",
    "\n",
    "    return report\n",
    "    #report = wandb.Table(report)\n",
    "    #run.log({'mutil class classification report' : report})"
   ]
  },
  {
   "cell_type": "markdown",
   "metadata": {},
   "source": [
    "### 학습 진행"
   ]
  },
  {
   "cell_type": "code",
   "execution_count": null,
   "metadata": {},
   "outputs": [],
   "source": [
    "def main() : \n",
    "    run = wandb.init()\n",
    "    run.name = 'resnet18_' + str(run.config.lr) + '_' + str(run.config.batch_size) + '_' + str(run.config.img_size)\n",
    "    wandb.config.epochs = epochs\n",
    "    \n",
    "    train_loader, val_loader, test_loader = define_datasets(run)\n",
    "    model, optimizer, criterion = define_training_object(run)\n",
    "\n",
    "    print(run.config)\n",
    "\n",
    "    for epoch in range(epochs) :\n",
    "        \n",
    "        train_acc, train_loss = train(model, optimizer, criterion, train_loader)\n",
    "        run.log({'epoch' : epoch, 'train_acc' : train_acc})\n",
    "        run.log({'epoch' : epoch, 'train_loss' : train_loss})\n",
    "\n",
    "        val_acc, val_loss = validation(model, optimizer, criterion, val_loader)\n",
    "        run.log({'epoch' : epoch, 'val_acc' : val_acc})\n",
    "        run.log({'epoch' : epoch, 'val_loss' : val_loss})\n",
    "\n",
    "        print('epoch : {} train_acc : {:.4f} train_loss : {:.4f} val_acc : {:.4f} val_loss : {:.4f}'.format(epoch, train_acc, train_loss, val_acc, val_loss))\n",
    "\n",
    "    print(test(model, test_loader))\n",
    "    torch.save(model.state_dict(), 'model/resnet18_' + str(run.config.lr) + '_' + str(run.config.batch_size) + '_' + str(run.config.img_size) + '.pt')"
   ]
  },
  {
   "cell_type": "markdown",
   "metadata": {},
   "source": [
    "### sweep 실행"
   ]
  },
  {
   "cell_type": "code",
   "execution_count": null,
   "metadata": {},
   "outputs": [],
   "source": [
    "wandb.agent(sweep_id, function=main)"
   ]
  },
  {
   "cell_type": "markdown",
   "metadata": {},
   "source": [
    "### test 데이터에 적용하여 분류성능 평가"
   ]
  },
  {
   "cell_type": "code",
   "execution_count": null,
   "metadata": {},
   "outputs": [],
   "source": [
    "model = timm.create_model('resnet18', pretrained=True, num_classes=7).to(device)\n",
    "model.load_state_dict(torch.load('model/resnet18_0.0001_64_224.pt'))\n",
    "\n",
    "# 테스트 데이터 불러오기 \n",
    "transform = transforms.Compose([\n",
    "        transforms.ToTensor(),\n",
    "        transforms.Resize((224,224))\n",
    "])\n",
    "\n",
    "test_data = AOIDataset(test=True, transform=transform)\n",
    "test_loader = DataLoader(test_data, batch_size=64, shuffle=True, num_workers=4)\n"
   ]
  },
  {
   "cell_type": "code",
   "execution_count": null,
   "metadata": {},
   "outputs": [],
   "source": [
    "def test(model, test_loader) :\n",
    "    model.eval()\n",
    "    prediction, ground_truth = [], []\n",
    "\n",
    "    infer_times = []\n",
    "    for data, label in test_loader :\n",
    "        with torch.no_grad() : \n",
    "            data = data.to(device)\n",
    "            label = label.to(device)\n",
    "\n",
    "            t1 = time.time()\n",
    "            logit = model(data)\n",
    "            t2 = time.time()\n",
    "            infer_times.append((t2-t1) * 1000)  \n",
    "\n",
    "            prob = F.softmax(logit)\n",
    "            pred = torch.argmax(prob, dim=1)\n",
    "\n",
    "            prediction += list(pred.detach().cpu().numpy())\n",
    "            ground_truth += list(label.detach().cpu().numpy())\n",
    "\n",
    "    infer_time = mean(infer_times)\n",
    "    report = classification_report(prediction, ground_truth)\n",
    "\n",
    "    cols = ['normal', 'burr', 'substance', 'metalburr', 'crack', 'overflow', 'unfulfilled']\n",
    "    cm = confusion_matrix(prediction, ground_truth)\n",
    "    cm = pd.DataFrame(cm, columns=cols, index=cols)\n",
    "    print(cm)\n",
    "\n",
    "    return report"
   ]
  },
  {
   "cell_type": "code",
   "execution_count": null,
   "metadata": {},
   "outputs": [],
   "source": [
    "report = test(model, test_loader)\n",
    "print(report)"
   ]
  },
  {
   "cell_type": "code",
   "execution_count": null,
   "metadata": {},
   "outputs": [],
   "source": []
  },
  {
   "cell_type": "code",
   "execution_count": null,
   "metadata": {},
   "outputs": [],
   "source": []
  }
 ],
 "metadata": {
  "interpreter": {
   "hash": "31fda0e93a4485de2277f54a6a41b438a918d75fb577fa0bc39c29b519e5e7b2"
  },
  "kernelspec": {
   "display_name": "Python 3.7.11 ('uad')",
   "language": "python",
   "name": "python3"
  },
  "language_info": {
   "codemirror_mode": {
    "name": "ipython",
    "version": 3
   },
   "file_extension": ".py",
   "mimetype": "text/x-python",
   "name": "python",
   "nbconvert_exporter": "python",
   "pygments_lexer": "ipython3",
   "version": "3.7.11"
  },
  "orig_nbformat": 4
 },
 "nbformat": 4,
 "nbformat_minor": 2
}

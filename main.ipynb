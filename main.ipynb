{
 "cells": [
  {
   "cell_type": "code",
   "execution_count": null,
   "metadata": {},
   "outputs": [],
   "source": [
    "import timm\n",
    "from DataLoader import AOIDataset\n",
    "from torchvision import transforms\n",
    "from torch.utils.data import DataLoader, random_split\n",
    "from torchvision.datasets import FashionMNIST\n",
    "import torch\n",
    "import torch.nn as nn\n",
    "import torch.nn.functional as F\n",
    "import wandb\n",
    "from tqdm import tqdm\n",
    "import warnings\n",
    "\n",
    "warnings.filterwarnings(action='ignore')"
   ]
  },
  {
   "cell_type": "markdown",
   "metadata": {},
   "source": [
    "### wandb 초기화 "
   ]
  },
  {
   "cell_type": "code",
   "execution_count": null,
   "metadata": {},
   "outputs": [],
   "source": [
    "run = wandb.init(project='resnet18_evaluation', name='aoi')"
   ]
  },
  {
   "cell_type": "markdown",
   "metadata": {},
   "source": [
    "### 하이퍼파라미터 선언"
   ]
  },
  {
   "cell_type": "code",
   "execution_count": null,
   "metadata": {},
   "outputs": [],
   "source": [
    "epochs = 50\n",
    "lr = 1e-3\n",
    "batch_size = 64\n",
    "device = 'cuda:1' if torch.cuda.is_available() else 'cpu'\n",
    "print(device)"
   ]
  },
  {
   "cell_type": "code",
   "execution_count": null,
   "metadata": {},
   "outputs": [],
   "source": [
    "torch.cuda.is_available()"
   ]
  },
  {
   "cell_type": "code",
   "execution_count": null,
   "metadata": {},
   "outputs": [],
   "source": [
    "wandb.config.epochs = epochs\n",
    "wandb.config.lr = lr\n",
    "wandb.config.batch_size = batch_size"
   ]
  },
  {
   "cell_type": "markdown",
   "metadata": {},
   "source": [
    "### 데이터 정의"
   ]
  },
  {
   "cell_type": "code",
   "execution_count": null,
   "metadata": {},
   "outputs": [],
   "source": [
    "# data\n",
    "transform = transforms.Compose([\n",
    "    transforms.ToTensor(),\n",
    "    transforms.Resize((512, 512))\n",
    "])\n",
    "\n",
    "train_data = AOIDataset(train=True, transform=transform)\n",
    "val_data = AOIDataset(val=True, transform=transform)\n",
    "test_data = AOIDataset(test=True, transform=transform)\n",
    "\n",
    "train_loader = DataLoader(train_data, batch_size=64, shuffle=True, num_workers=4)\n",
    "val_loader = DataLoader(val_data, batch_size=64, shuffle=True, num_workers=4)\n",
    "test_loader = DataLoader(test_data, batch_size=64, shuffle=True, num_workers=4)\n"
   ]
  },
  {
   "cell_type": "code",
   "execution_count": null,
   "metadata": {},
   "outputs": [],
   "source": [
    "\"\"\"\n",
    "# MNISTdata\n",
    "transform = transforms.Compose([\n",
    "    transforms.ToTensor(),\n",
    "    transforms.Resize((512, 512))\n",
    "])\n",
    "\n",
    "total_data = FashionMNIST('./data', train=True, transform=transform, download=True)\n",
    "train_data, val_data = random_split(total_data, [int(len(total_data)*0.8), int(len(total_data)*0.2)])\n",
    "test_data = FashionMNIST('./data', train=False, transform=transform, download=True)\n",
    "\n",
    "train_loader = DataLoader(train_data, batch_size=64, shuffle=True, num_workers=4)\n",
    "val_loader = DataLoader(val_data, batch_size=64, shuffle=True, num_workers=4)\n",
    "test_loader = DataLoader(test_data, batch_size=64, shuffle=True, num_workers=4)\n",
    "\"\"\""
   ]
  },
  {
   "cell_type": "markdown",
   "metadata": {},
   "source": [
    "### 모델 및 기타 학습용 객체 정의"
   ]
  },
  {
   "cell_type": "code",
   "execution_count": null,
   "metadata": {},
   "outputs": [],
   "source": [
    "model = timm.create_model('resnet18', pretrained=True, num_classes=7).to(device)\n",
    "optimizer = torch.optim.Adam(model.parameters(), lr=lr)\n",
    "criterion = nn.NLLLoss()"
   ]
  },
  {
   "cell_type": "code",
   "execution_count": null,
   "metadata": {},
   "outputs": [],
   "source": [
    "# resnet 18의 특성 추출용 CNN layer의 파라미터는 고정시키고 분류기의 성능만을 업데이트하고자 한다. \n",
    "for param in model.parameters() :\n",
    "    param.require_grad = False\n",
    "\n",
    "for param in model.fc.parameters() :\n",
    "    param.require_grad = True"
   ]
  },
  {
   "cell_type": "markdown",
   "metadata": {},
   "source": [
    "### 학습 함수 정의"
   ]
  },
  {
   "cell_type": "code",
   "execution_count": null,
   "metadata": {},
   "outputs": [],
   "source": [
    "def train() : \n",
    "    model.train()\n",
    "    epoch_loss = 0  \n",
    "\n",
    "    print('training process')\n",
    "    for _, (data, label) in enumerate(train_loader) :\n",
    "        data = data.to(device)\n",
    "        label = label.to(device)\n",
    "\n",
    "        logit = model(data)\n",
    "        output = F.log_softmax(logit) \n",
    "        loss = criterion(output, label)\n",
    "        \n",
    "        optimizer.zero_grad()\n",
    "        loss.backward()\n",
    "        optimizer.step()\n",
    "\n",
    "        epoch_loss += loss.item()\n",
    "\n",
    "    train_loss = epoch_loss / len(train_loader.dataset)\n",
    "        \n",
    "    return train_loss\n",
    "\n",
    "\n",
    "def validation() :\n",
    "    model.eval()\n",
    "    epoch_loss = 0\n",
    "\n",
    "    print('valiation process')\n",
    "    for data, label in val_loader :\n",
    "        data = data.to(device)\n",
    "        label = label.to(device)\n",
    "        \n",
    "        logit = model(data)\n",
    "        output = F.log_softmax(logit) \n",
    "        loss = criterion(output, label)\n",
    "        \n",
    "        optimizer.zero_grad()\n",
    "        loss.backward()\n",
    "        optimizer.step()\n",
    "\n",
    "        epoch_loss += loss.item()\n",
    "    \n",
    "    val_loss = epoch_loss / len(val_loader.dataset)\n",
    "        \n",
    "    return val_loss"
   ]
  },
  {
   "cell_type": "markdown",
   "metadata": {},
   "source": [
    "### 학습 진행"
   ]
  },
  {
   "cell_type": "code",
   "execution_count": null,
   "metadata": {},
   "outputs": [],
   "source": [
    "for epoch in range(epochs) :\n",
    "    print('==================={}=================='.format(epoch))\n",
    "    train_loss = train()\n",
    "    run.log({'epoch' : epoch, 'train_loss' : train_loss})\n",
    "\n",
    "    val_loss = validation()\n",
    "    run.log({'epoch' : epoch, 'val_loss' : val_loss})\n",
    "\n",
    "    print('epoch : {} train_loss : {:.4f} val_loss : {:.4f}'.format(epoch, train_loss, val_loss))"
   ]
  },
  {
   "cell_type": "code",
   "execution_count": null,
   "metadata": {},
   "outputs": [],
   "source": [
    "torch.save(model, 'model/first.pt')"
   ]
  },
  {
   "cell_type": "code",
   "execution_count": null,
   "metadata": {},
   "outputs": [],
   "source": [
    "run.finish()"
   ]
  }
 ],
 "metadata": {
  "interpreter": {
   "hash": "31fda0e93a4485de2277f54a6a41b438a918d75fb577fa0bc39c29b519e5e7b2"
  },
  "kernelspec": {
   "display_name": "Python 3.7.11 ('uad')",
   "language": "python",
   "name": "python3"
  },
  "language_info": {
   "codemirror_mode": {
    "name": "ipython",
    "version": 3
   },
   "file_extension": ".py",
   "mimetype": "text/x-python",
   "name": "python",
   "nbconvert_exporter": "python",
   "pygments_lexer": "ipython3",
   "version": "3.7.11"
  },
  "orig_nbformat": 4
 },
 "nbformat": 4,
 "nbformat_minor": 2
}

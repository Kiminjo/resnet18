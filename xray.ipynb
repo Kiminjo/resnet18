{
 "cells": [
  {
   "cell_type": "code",
   "execution_count": 1,
   "metadata": {},
   "outputs": [],
   "source": [
    "# custom model\n",
    "from DataLoader import XrayDataset\n",
    "\n",
    "# library for deep learning\n",
    "import torch \n",
    "from torch import nn \n",
    "import torch.nn.functional as F\n",
    "import timm\n",
    "from torch.utils.data import DataLoader\n",
    "from torchvision import transforms\n",
    "\n",
    "# classification\n",
    "from sklearn.metrics import classification_report\n",
    "\n",
    "# ETC\n",
    "import pandas as pd \n",
    "import wandb\n",
    "import time\n",
    "import warnings\n",
    "\n",
    "warnings.filterwarnings(action='ignore')"
   ]
  },
  {
   "cell_type": "markdown",
   "metadata": {},
   "source": [
    "### defect 유형 탐지 및 전처리 "
   ]
  },
  {
   "cell_type": "code",
   "execution_count": null,
   "metadata": {},
   "outputs": [],
   "source": [
    "df = pd.read_csv('DATA PATH')\n",
    "\n",
    "labels = list(df['label'])\n",
    "unique_label = list(set(labels))\n",
    "\n",
    "for label_type in unique_label :\n",
    "    print('{} defect : {}'.format(label_type, labels.count(label_type)))"
   ]
  },
  {
   "cell_type": "markdown",
   "metadata": {},
   "source": [
    "### 하이퍼파라미터 및 sweep 정의하기 "
   ]
  },
  {
   "cell_type": "code",
   "execution_count": null,
   "metadata": {},
   "outputs": [],
   "source": [
    "sweep_config = {\n",
    "    'name' : 'sse_xray_resnet18', \n",
    "    'method' : 'grid',\n",
    "    'parameters' : {\n",
    "        'img_size' : {\n",
    "            'value' : 224\n",
    "        },\n",
    "        'batch_size' : {\n",
    "            'values' : [16, 32, 64]\n",
    "        },\n",
    "        'lr' : {\n",
    "            'values' : [1e-3, 1e-4, 1e-5]\n",
    "        },\n",
    "        'epochs' : {\n",
    "            'value' : 20\n",
    "        }\n",
    "    }\n",
    "}\n",
    "\n",
    "device = 'cuda:1' if torch.cuda.is_available() else 'cpu'\n",
    "\n",
    "sweep_id = wandb.sweep(sweep_config, project='resnet18_xray_eval', entity='wandb')"
   ]
  },
  {
   "cell_type": "markdown",
   "metadata": {},
   "source": [
    "### 데이터 불러오기"
   ]
  },
  {
   "cell_type": "code",
   "execution_count": null,
   "metadata": {},
   "outputs": [],
   "source": [
    "def declare_data(run) : \n",
    "    transform = transforms.Compose([\n",
    "        transforms.ToTensor(),\n",
    "        transforms.Resize((run.config.img_size, run.config.img_size))\n",
    "    ])\n",
    "\n",
    "    train_data = XrayDataset(train=True, transform=transform)\n",
    "    val_data = XrayDataset(val=True, transform=transform)\n",
    "    test_data = XrayDataset(test=True, transform=transform)\n",
    "\n",
    "    train_loader = DataLoader(train_data, batch_size=run.config.batch_size, shuffle=True, num_workers=4)\n",
    "    val_loader = DataLoader(val_data, batch_size=run.config.batch_size, shuffle=True, num_workers=4)\n",
    "    test_loader = DataLoader(test_data, batch_size=1, shuffle=True, num_workers=4)\n",
    "\n",
    "    return train_loader, val_loader, test_loader"
   ]
  },
  {
   "cell_type": "markdown",
   "metadata": {},
   "source": [
    "### train, validation 함수 정의하기"
   ]
  },
  {
   "cell_type": "code",
   "execution_count": null,
   "metadata": {},
   "outputs": [],
   "source": [
    "def train(model, optimizer, criterion, data_loader) :\n",
    "    model.train()\n",
    "    epoch_acc = 0\n",
    "    epoch_loss = 0\n",
    "\n",
    "    for data, label in data_loader :\n",
    "        data = data.to(device)\n",
    "        label = label.to(device)\n",
    "\n",
    "        logit = model(data)\n",
    "        prob = F.log_softmax(logit)\n",
    "        pred = torch.argmax(prob, dim=1)\n",
    "        acc = torch.sum(pred==label)\n",
    "        loss = criterion(prob, label)\n",
    "\n",
    "        optimizer.zero_grad()\n",
    "        loss.backward()\n",
    "        optimizer.step()\n",
    "\n",
    "        epoch_acc += acc.item() \n",
    "        epoch_loss += loss.item()\n",
    "\n",
    "    train_acc = epoch_acc / len(data_loader.dataset)\n",
    "    train_loss = epoch_loss / len(data_loader.dataset)\n",
    "\n",
    "    return train_acc, train_loss\n",
    "\n",
    "\n",
    "\n",
    "def validation(model, criterion, data_loader) :\n",
    "    model.eval()\n",
    "    epoch_acc = 0\n",
    "    epoch_loss = 0\n",
    "\n",
    "    with torch.no_grad() : \n",
    "        for data, label in data_loader :\n",
    "            data = data.to(device)\n",
    "            label = label.to(device)\n",
    "\n",
    "            logit = model(data)\n",
    "            prob = F.log_softmax(logit)\n",
    "            pred = torch.argmax(prob, dim=1)\n",
    "            acc = torch.sum(pred==label)\n",
    "            loss = criterion(prob, label)\n",
    "\n",
    "            epoch_acc += acc \n",
    "            epoch_loss += loss\n",
    "\n",
    "        val_acc = epoch_acc / len(data_loader.dataset)\n",
    "        val_loss = epoch_loss / len(data_loader.dataset)\n",
    "\n",
    "    return val_acc, val_loss\n",
    "        "
   ]
  },
  {
   "cell_type": "markdown",
   "metadata": {},
   "source": [
    "### 학습용 객체 정의하기"
   ]
  },
  {
   "cell_type": "code",
   "execution_count": null,
   "metadata": {},
   "outputs": [],
   "source": [
    "def define_training_object(run) : \n",
    "    model = timm.create_model('resnet18', pretrained=True, num_classes=4).to(device)\n",
    "    optimizer = torch.optim.Adam(model.parameters(), lr=run.config.lr)\n",
    "    criterion = nn.NLLLoss()\n",
    "\n",
    "    # resnet 18의 특성 추출용 CNN layer의 파라미터는 고정시키고 분류기의 성능만을 업데이트하고자 한다. \n",
    "    for param in model.parameters() :\n",
    "        param.require_grad = False\n",
    "\n",
    "    for param in model.fc.parameters() :\n",
    "        param.require_grad = True\n",
    "\n",
    "    return model, optimizer, criterion"
   ]
  },
  {
   "cell_type": "markdown",
   "metadata": {},
   "source": [
    "### main 함수 정의하기 "
   ]
  },
  {
   "cell_type": "code",
   "execution_count": null,
   "metadata": {},
   "outputs": [],
   "source": [
    "def main() :\n",
    "    # wandb initialize \n",
    "    run = wandb.init()\n",
    "    run.name = 'xray_' + str(run.config.batch_size) + '_' + str(run.config.img_size) + '_' + str(run.config.lr)\n",
    "\n",
    "    # 학습용 객체(데이터, 모델, 옵티마이저, 로스 함수) 정의하기 \n",
    "    train_data, val_data, _ = declare_data(run)\n",
    "    model, optimizer, criterion = define_training_object(run)\n",
    "\n",
    "    print(run.config)\n",
    "\n",
    "    # 학습 진행\n",
    "    for epoch in range(run.config.epochs) : \n",
    "        train_acc, train_loss = train(model, optimizer, criterion, train_data)\n",
    "        run.log({'epoch' : epoch, 'train/acc' : train_acc})\n",
    "        run.log({'epoch' : epoch, 'train/loss' : train_loss})\n",
    "\n",
    "        val_acc, val_loss = validation(model, criterion, val_data)\n",
    "        run.log({'epoch' : epoch, 'val/acc' : val_acc})\n",
    "        run.log({'epoch' : epoch, 'val/loss' : val_loss})\n",
    "\n",
    "        print('epoch : {} train_acc : {:.4f} train_loss : {:.4f} val_acc : {:.4f} val_loss : {:.4f}'.format(epoch, train_acc, train_loss, val_acc, val_loss))\n",
    "\n",
    "    # 모델 저장하기 \n",
    "    torch.save(model.state_dict(), 'model/xray/resnet18_' + '_' + str(run.config.batch_size) + '_' + str(run.config.img_size) + '_' +  str(run.config.lr) + '.pt')"
   ]
  },
  {
   "cell_type": "markdown",
   "metadata": {},
   "source": [
    "### 학습 진행"
   ]
  },
  {
   "cell_type": "code",
   "execution_count": null,
   "metadata": {},
   "outputs": [],
   "source": [
    "wandb.agent(sweep_id, function=main)"
   ]
  },
  {
   "cell_type": "markdown",
   "metadata": {},
   "source": [
    "---\n",
    "### 모델 테스트"
   ]
  },
  {
   "cell_type": "code",
   "execution_count": 13,
   "metadata": {},
   "outputs": [],
   "source": [
    "def test(run, model, criterion, data_loader) :\n",
    "    \n",
    "    model.eval()\n",
    "    epoch_acc = 0\n",
    "    epoch_loss = 0\n",
    "    infer_times = 0 \n",
    "\n",
    "    labels, predictions = [], []\n",
    "\n",
    "    with torch.no_grad() : \n",
    "        for data, label in data_loader :\n",
    "            data = data.to(device)\n",
    "            label = label.to(device)\n",
    "\n",
    "            t1 = time.time()\n",
    "            logit = model(data)\n",
    "            t2 = time.time()\n",
    "            infer_times += (t2-t1) * 1000\n",
    "\n",
    "            prob = F.log_softmax(logit)\n",
    "            pred = torch.argmax(prob, dim=1)\n",
    "            acc = torch.sum(pred==label)\n",
    "            loss = criterion(prob, label)\n",
    "\n",
    "            epoch_acc += acc \n",
    "            epoch_loss += loss\n",
    "\n",
    "            labels += list(label.detach().cpu().numpy())\n",
    "            predictions += list(pred.detach().cpu().numpy())\n",
    "\n",
    "        test_acc = epoch_acc / len(data_loader.dataset)\n",
    "        test_loss = epoch_loss / len(data_loader.dataset)\n",
    "        infer_times = infer_times / len(data_loader.dataset)\n",
    "\n",
    "        run.config.acc = test_acc\n",
    "        run.config.loss = test_loss\n",
    "        run.config.infer_time = infer_times\n",
    "\n",
    "    # precision, recall, confusion matrix 등 세부 지표 확인하기 \n",
    "    report = classification_report(labels, predictions)\n",
    "    print(report)\n",
    "\n",
    "    #run.log({'roc curve/roc_curve' : wandb.plot.roc_curve(labels, predictions, labels=['good', 'bad', 'empty', 'in-spec'])})\n",
    "    run.log({'confusion_matrix/confusion_matrix' : wandb.sklearn.plot_confusion_matrix(labels, predictions, ['good', 'bad', 'empty', 'in-spec'])})\n"
   ]
  },
  {
   "cell_type": "code",
   "execution_count": 14,
   "metadata": {},
   "outputs": [
    {
     "data": {
      "text/html": [
       "Tracking run with wandb version 0.12.11"
      ],
      "text/plain": [
       "<IPython.core.display.HTML object>"
      ]
     },
     "metadata": {},
     "output_type": "display_data"
    },
    {
     "data": {
      "text/html": [
       "Run data is saved locally in <code>/home/injo/workspaces/resnet_evaluation/wandb/run-20220331_172328-4rl4b214</code>"
      ],
      "text/plain": [
       "<IPython.core.display.HTML object>"
      ]
     },
     "metadata": {},
     "output_type": "display_data"
    },
    {
     "data": {
      "text/html": [
       "Syncing run <strong><a href=\"http://localhost:9777/wandb/resnet18_xray_eval/runs/4rl4b214\" target=\"_blank\">evaluation</a></strong> to <a href=\"http://localhost:9777/wandb/resnet18_xray_eval\" target=\"_blank\">Weights & Biases</a> (<a href=\"https://wandb.me/run\" target=\"_blank\">docs</a>)<br/>"
      ],
      "text/plain": [
       "<IPython.core.display.HTML object>"
      ]
     },
     "metadata": {},
     "output_type": "display_data"
    },
    {
     "name": "stdout",
     "output_type": "stream",
     "text": [
      "              precision    recall  f1-score   support\n",
      "\n",
      "           0       0.99      0.99      0.99      3858\n",
      "           1       0.73      0.92      0.81       724\n",
      "           2       1.00      1.00      1.00      4030\n",
      "           3       0.69      0.32      0.44       370\n",
      "\n",
      "    accuracy                           0.96      8982\n",
      "   macro avg       0.85      0.81      0.81      8982\n",
      "weighted avg       0.96      0.96      0.96      8982\n",
      "\n"
     ]
    }
   ],
   "source": [
    "run = wandb.init(entity='wandb', project='resnet18_xray_eval', name='evaluation')\n",
    "\n",
    "device = 'cuda:1' if torch.cuda.is_available() else 'cpu'\n",
    "\n",
    "model = timm.create_model('resnet18', pretrained=True, num_classes=4).to(device)\n",
    "model.load_state_dict(torch.load('model/xray/resnet18__64_224_1e-05.pt'))\n",
    "criterion = nn.NLLLoss()\n",
    "\n",
    "transform = transforms.Compose([\n",
    "        transforms.ToTensor(),\n",
    "        transforms.Resize((224, 224))\n",
    "    ])\n",
    "\n",
    "test_data = XrayDataset(test=True, transform=transform)\n",
    "test_loader = DataLoader(test_data, batch_size=1, shuffle=True, num_workers=4)\n",
    "\n",
    "test(run, model, criterion, test_loader)"
   ]
  },
  {
   "cell_type": "code",
   "execution_count": 15,
   "metadata": {},
   "outputs": [
    {
     "name": "stdout",
     "output_type": "stream",
     "text": [
      "\n"
     ]
    },
    {
     "data": {
      "text/html": [
       "Waiting for W&B process to finish... <strong style=\"color:green\">(success).</strong>"
      ],
      "text/plain": [
       "<IPython.core.display.HTML object>"
      ]
     },
     "metadata": {},
     "output_type": "display_data"
    },
    {
     "data": {
      "application/vnd.jupyter.widget-view+json": {
       "model_id": "505a3aac097545dfb72432283b07b59d",
       "version_major": 2,
       "version_minor": 0
      },
      "text/plain": [
       "VBox(children=(Label(value='0.002 MB of 0.002 MB uploaded (0.000 MB deduped)\\r'), FloatProgress(value=1.0, max…"
      ]
     },
     "metadata": {},
     "output_type": "display_data"
    },
    {
     "data": {
      "text/html": [
       "Synced <strong style=\"color:#cdcd00\">evaluation</strong>: <a href=\"http://localhost:9777/wandb/resnet18_xray_eval/runs/4rl4b214\" target=\"_blank\">http://localhost:9777/wandb/resnet18_xray_eval/runs/4rl4b214</a><br/>Synced 6 W&B file(s), 1 media file(s), 1 artifact file(s) and 1 other file(s)"
      ],
      "text/plain": [
       "<IPython.core.display.HTML object>"
      ]
     },
     "metadata": {},
     "output_type": "display_data"
    },
    {
     "data": {
      "text/html": [
       "Find logs at: <code>./wandb/run-20220331_172328-4rl4b214/logs</code>"
      ],
      "text/plain": [
       "<IPython.core.display.HTML object>"
      ]
     },
     "metadata": {},
     "output_type": "display_data"
    }
   ],
   "source": [
    "run.finish()"
   ]
  },
  {
   "cell_type": "code",
   "execution_count": null,
   "metadata": {},
   "outputs": [],
   "source": []
  },
  {
   "cell_type": "code",
   "execution_count": null,
   "metadata": {},
   "outputs": [],
   "source": []
  }
 ],
 "metadata": {
  "interpreter": {
   "hash": "1fde82521e115c471262558035589138988a506de5f6e61932d5ead34605b673"
  },
  "kernelspec": {
   "display_name": "Python 3.9.7 ('base')",
   "language": "python",
   "name": "python3"
  },
  "language_info": {
   "codemirror_mode": {
    "name": "ipython",
    "version": 3
   },
   "file_extension": ".py",
   "mimetype": "text/x-python",
   "name": "python",
   "nbconvert_exporter": "python",
   "pygments_lexer": "ipython3",
   "version": "3.7.11"
  },
  "orig_nbformat": 4
 },
 "nbformat": 4,
 "nbformat_minor": 2
}
